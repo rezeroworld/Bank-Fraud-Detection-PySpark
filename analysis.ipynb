{
 "cells": [
  {
   "cell_type": "markdown",
   "metadata": {},
   "source": [
    "# Importing libraries"
   ]
  },
  {
   "cell_type": "code",
   "execution_count": 1,
   "metadata": {},
   "outputs": [],
   "source": [
    "from pyspark.sql import SparkSession\n",
    "from pyspark.ml.feature import StringIndexer\n",
    "from pyspark.sql.functions import col,isnan, when, count\n",
    "from pyspark.ml.classification import DecisionTreeClassifier\n",
    "from pyspark.ml.feature import VectorAssembler\n",
    "from pyspark.ml.evaluation import BinaryClassificationEvaluator, MulticlassClassificationEvaluator\n",
    "from pyspark.ml import Pipeline\n",
    "from xgboost.spark import SparkXGBClassifier"
   ]
  },
  {
   "cell_type": "markdown",
   "metadata": {},
   "source": [
    "# Exploring the dataset"
   ]
  },
  {
   "cell_type": "code",
   "execution_count": 2,
   "metadata": {},
   "outputs": [],
   "source": [
    "spark = SparkSession.builder\\\n",
    "                    .master('local[*]')\\\n",
    "                    .appName('bank_fraud_detection')\\\n",
    "                    .getOrCreate()"
   ]
  },
  {
   "cell_type": "code",
   "execution_count": 3,
   "metadata": {},
   "outputs": [
    {
     "name": "stdout",
     "output_type": "stream",
     "text": [
      "root\n",
      " |-- fraud_bool: integer (nullable = true)\n",
      " |-- income: double (nullable = true)\n",
      " |-- name_email_similarity: double (nullable = true)\n",
      " |-- prev_address_months_count: integer (nullable = true)\n",
      " |-- current_address_months_count: integer (nullable = true)\n",
      " |-- customer_age: integer (nullable = true)\n",
      " |-- days_since_request: double (nullable = true)\n",
      " |-- intended_balcon_amount: double (nullable = true)\n",
      " |-- payment_type: string (nullable = true)\n",
      " |-- zip_count_4w: integer (nullable = true)\n",
      " |-- velocity_6h: double (nullable = true)\n",
      " |-- velocity_24h: double (nullable = true)\n",
      " |-- velocity_4w: double (nullable = true)\n",
      " |-- bank_branch_count_8w: integer (nullable = true)\n",
      " |-- date_of_birth_distinct_emails_4w: integer (nullable = true)\n",
      " |-- employment_status: string (nullable = true)\n",
      " |-- credit_risk_score: integer (nullable = true)\n",
      " |-- email_is_free: integer (nullable = true)\n",
      " |-- housing_status: string (nullable = true)\n",
      " |-- phone_home_valid: integer (nullable = true)\n",
      " |-- phone_mobile_valid: integer (nullable = true)\n",
      " |-- bank_months_count: integer (nullable = true)\n",
      " |-- has_other_cards: integer (nullable = true)\n",
      " |-- proposed_credit_limit: double (nullable = true)\n",
      " |-- foreign_request: integer (nullable = true)\n",
      " |-- source: string (nullable = true)\n",
      " |-- session_length_in_minutes: double (nullable = true)\n",
      " |-- device_os: string (nullable = true)\n",
      " |-- keep_alive_session: integer (nullable = true)\n",
      " |-- device_distinct_emails_8w: integer (nullable = true)\n",
      " |-- device_fraud_count: integer (nullable = true)\n",
      " |-- month: integer (nullable = true)\n",
      "\n"
     ]
    }
   ],
   "source": [
    "bank_data = spark.read.csv('data/Base.csv', header=True, inferSchema=True, nullValue='NA')\n",
    "bank_data.printSchema()"
   ]
  },
  {
   "cell_type": "code",
   "execution_count": 4,
   "metadata": {},
   "outputs": [
    {
     "name": "stdout",
     "output_type": "stream",
     "text": [
      "+----------+------+---------------------+-------------------------+----------------------------+------------+--------------------+----------------------+------------+------------+------------------+------------------+------------------+--------------------+--------------------------------+-----------------+-----------------+-------------+--------------+----------------+------------------+-----------------+---------------+---------------------+---------------+--------+-------------------------+---------+------------------+-------------------------+------------------+-----+\n",
      "|fraud_bool|income|name_email_similarity|prev_address_months_count|current_address_months_count|customer_age|  days_since_request|intended_balcon_amount|payment_type|zip_count_4w|       velocity_6h|      velocity_24h|       velocity_4w|bank_branch_count_8w|date_of_birth_distinct_emails_4w|employment_status|credit_risk_score|email_is_free|housing_status|phone_home_valid|phone_mobile_valid|bank_months_count|has_other_cards|proposed_credit_limit|foreign_request|  source|session_length_in_minutes|device_os|keep_alive_session|device_distinct_emails_8w|device_fraud_count|month|\n",
      "+----------+------+---------------------+-------------------------+----------------------------+------------+--------------------+----------------------+------------+------------+------------------+------------------+------------------+--------------------+--------------------------------+-----------------+-----------------+-------------+--------------+----------------+------------------+-----------------+---------------+---------------------+---------------+--------+-------------------------+---------+------------------+-------------------------+------------------+-----+\n",
      "|         1|   0.9|  0.16682773442433269|                       -1|                          88|          50| 0.02092517283659475|   -1.3313449634902534|          AA|         769|10650.765522770173| 3134.319630490106| 3863.647739528353|                   1|                               6|               CA|              185|            0|            BA|               1|                 0|               24|              0|                500.0|              0|INTERNET|       3.8881146047890933|  windows|                 0|                        1|                 0|    7|\n",
      "|         1|   0.9|   0.2962860052333516|                       -1|                         144|          50|0.005417538325535515|   -0.8162237547762208|          AB|         366| 534.0473189424272| 2670.918291734359| 3124.298165591961|                 718|                               3|               CA|              259|            1|            BA|               0|                 0|               15|              0|               1500.0|              0|INTERNET|       31.798819363624553|  windows|                 0|                        1|                 0|    7|\n",
      "|         1|   0.9|  0.04498548696842858|                       -1|                         132|          40|  3.1085487925698936|   -0.7557277006560229|          AC|         870| 4048.534263154862|   2893.6214979593|3159.5906788489287|                   1|                              14|               CB|              177|            1|            BA|               0|                 1|               -1|              0|                200.0|              0|INTERNET|        4.728704865428253|    other|                 0|                        1|                 0|    7|\n",
      "|         1|   0.9|   0.1595111751427926|                       -1|                          22|          50| 0.01907943482742061|   -1.2051241582867218|          AB|         810| 3457.064063279491| 4054.908411692511| 3022.261811936421|                1921|                               6|               CA|              110|            1|            BA|               0|                 1|               31|              1|                200.0|              0|INTERNET|        2.047904421972764|    linux|                 0|                        1|                 0|    7|\n",
      "|         1|   0.9|   0.5964137247529342|                       -1|                         218|          50|0.004440521642123831|   -0.7732757002884915|          AB|         890| 5020.341679022825|2728.2371590193657|3087.6709516945257|                1990|                               2|               CA|              295|            1|            BA|               1|                 0|               31|              0|               1500.0|              0|INTERNET|        3.775224949895108|macintosh|                 1|                        1|                 0|    7|\n",
      "+----------+------+---------------------+-------------------------+----------------------------+------------+--------------------+----------------------+------------+------------+------------------+------------------+------------------+--------------------+--------------------------------+-----------------+-----------------+-------------+--------------+----------------+------------------+-----------------+---------------+---------------------+---------------+--------+-------------------------+---------+------------------+-------------------------+------------------+-----+\n",
      "only showing top 5 rows\n",
      "\n"
     ]
    }
   ],
   "source": [
    "bank_data.show(5)"
   ]
  },
  {
   "cell_type": "code",
   "execution_count": 5,
   "metadata": {},
   "outputs": [],
   "source": [
    "bank_data = bank_data.withColumn(\"label\", bank_data.fraud_bool.cast('float')).drop('fraud_bool')"
   ]
  },
  {
   "cell_type": "code",
   "execution_count": 6,
   "metadata": {},
   "outputs": [],
   "source": [
    "bank_data = bank_data.dropna()"
   ]
  },
  {
   "cell_type": "code",
   "execution_count": 7,
   "metadata": {},
   "outputs": [
    {
     "name": "stdout",
     "output_type": "stream",
     "text": [
      "+------+---------------------+-------------------------+----------------------------+------------+--------------------+----------------------+------------+------------------+------------------+------------------+--------------------+--------------------------------+-----------------+-------------+----------------+------------------+-----------------+---------------+---------------------+---------------+-------------------------+------------------+-------------------------+------------------+-----+-----+------------------+-----------------------+--------------------+------------+---------------+\n",
      "|income|name_email_similarity|prev_address_months_count|current_address_months_count|customer_age|  days_since_request|intended_balcon_amount|zip_count_4w|       velocity_6h|      velocity_24h|       velocity_4w|bank_branch_count_8w|date_of_birth_distinct_emails_4w|credit_risk_score|email_is_free|phone_home_valid|phone_mobile_valid|bank_months_count|has_other_cards|proposed_credit_limit|foreign_request|session_length_in_minutes|keep_alive_session|device_distinct_emails_8w|device_fraud_count|month|label|payment_type_index|employment_status_index|housing_status_index|source_index|device_os_index|\n",
      "+------+---------------------+-------------------------+----------------------------+------------+--------------------+----------------------+------------+------------------+------------------+------------------+--------------------+--------------------------------+-----------------+-------------+----------------+------------------+-----------------+---------------+---------------------+---------------+-------------------------+------------------+-------------------------+------------------+-----+-----+------------------+-----------------------+--------------------+------------+---------------+\n",
      "|   0.9|  0.16682773442433269|                       -1|                          88|          50| 0.02092517283659475|   -1.3313449634902534|         769|10650.765522770173| 3134.319630490106| 3863.647739528353|                   1|                               6|              185|            0|               1|                 0|               24|              0|                500.0|              0|       3.8881146047890933|                 0|                        1|                 0|    7|  1.0|               2.0|                    0.0|                 0.0|         0.0|            0.0|\n",
      "|   0.9|   0.2962860052333516|                       -1|                         144|          50|0.005417538325535515|   -0.8162237547762208|         366| 534.0473189424272| 2670.918291734359| 3124.298165591961|                 718|                               3|              259|            1|               0|                 0|               15|              0|               1500.0|              0|       31.798819363624553|                 0|                        1|                 0|    7|  1.0|               0.0|                    0.0|                 0.0|         0.0|            0.0|\n",
      "|   0.9|  0.04498548696842858|                       -1|                         132|          40|  3.1085487925698936|   -0.7557277006560229|         870| 4048.534263154862|   2893.6214979593|3159.5906788489287|                   1|                              14|              177|            1|               0|                 1|               -1|              0|                200.0|              0|        4.728704865428253|                 0|                        1|                 0|    7|  1.0|               1.0|                    1.0|                 0.0|         0.0|            1.0|\n",
      "|   0.9|   0.1595111751427926|                       -1|                          22|          50| 0.01907943482742061|   -1.2051241582867218|         810| 3457.064063279491| 4054.908411692511| 3022.261811936421|                1921|                               6|              110|            1|               0|                 1|               31|              1|                200.0|              0|        2.047904421972764|                 0|                        1|                 0|    7|  1.0|               0.0|                    0.0|                 0.0|         0.0|            2.0|\n",
      "|   0.9|   0.5964137247529342|                       -1|                         218|          50|0.004440521642123831|   -0.7732757002884915|         890| 5020.341679022825|2728.2371590193657|3087.6709516945257|                1990|                               2|              295|            1|               1|                 0|               31|              0|               1500.0|              0|        3.775224949895108|                 1|                        1|                 0|    7|  1.0|               0.0|                    0.0|                 0.0|         0.0|            3.0|\n",
      "+------+---------------------+-------------------------+----------------------------+------------+--------------------+----------------------+------------+------------------+------------------+------------------+--------------------+--------------------------------+-----------------+-------------+----------------+------------------+-----------------+---------------+---------------------+---------------+-------------------------+------------------+-------------------------+------------------+-----+-----+------------------+-----------------------+--------------------+------------+---------------+\n",
      "only showing top 5 rows\n",
      "\n"
     ]
    }
   ],
   "source": [
    "indexers = StringIndexer(inputCols=['payment_type', 'employment_status', 'housing_status', 'source', 'device_os'], outputCols=['payment_type_index', 'employment_status_index', 'housing_status_index', 'source_index', 'device_os_index'])\n",
    "bank_data_indexed = indexers.fit(bank_data).transform(bank_data).drop(*['payment_type', 'employment_status', 'housing_status', 'source', 'device_os'])\n",
    "bank_data_indexed.show(5)"
   ]
  },
  {
   "cell_type": "code",
   "execution_count": 8,
   "metadata": {},
   "outputs": [
    {
     "name": "stdout",
     "output_type": "stream",
     "text": [
      "+------+---------------------+-------------------------+----------------------------+------------+--------------------+----------------------+------------+------------------+------------------+------------------+--------------------+--------------------------------+-----------------+-------------+----------------+------------------+-----------------+---------------+---------------------+---------------+-------------------------+------------------+-------------------------+------------------+-----+-----+------------------+-----------------------+--------------------+------------+---------------+--------------------+\n",
      "|income|name_email_similarity|prev_address_months_count|current_address_months_count|customer_age|  days_since_request|intended_balcon_amount|zip_count_4w|       velocity_6h|      velocity_24h|       velocity_4w|bank_branch_count_8w|date_of_birth_distinct_emails_4w|credit_risk_score|email_is_free|phone_home_valid|phone_mobile_valid|bank_months_count|has_other_cards|proposed_credit_limit|foreign_request|session_length_in_minutes|keep_alive_session|device_distinct_emails_8w|device_fraud_count|month|label|payment_type_index|employment_status_index|housing_status_index|source_index|device_os_index|            features|\n",
      "+------+---------------------+-------------------------+----------------------------+------------+--------------------+----------------------+------------+------------------+------------------+------------------+--------------------+--------------------------------+-----------------+-------------+----------------+------------------+-----------------+---------------+---------------------+---------------+-------------------------+------------------+-------------------------+------------------+-----+-----+------------------+-----------------------+--------------------+------------+---------------+--------------------+\n",
      "|   0.9|  0.16682773442433269|                       -1|                          88|          50| 0.02092517283659475|   -1.3313449634902534|         769|10650.765522770173| 3134.319630490106| 3863.647739528353|                   1|                               6|              185|            0|               1|                 0|               24|              0|                500.0|              0|       3.8881146047890933|                 0|                        1|                 0|    7|  1.0|               2.0|                    0.0|                 0.0|         0.0|            0.0|[0.9,0.1668277344...|\n",
      "|   0.9|   0.2962860052333516|                       -1|                         144|          50|0.005417538325535515|   -0.8162237547762208|         366| 534.0473189424272| 2670.918291734359| 3124.298165591961|                 718|                               3|              259|            1|               0|                 0|               15|              0|               1500.0|              0|       31.798819363624553|                 0|                        1|                 0|    7|  1.0|               0.0|                    0.0|                 0.0|         0.0|            0.0|[0.9,0.2962860052...|\n",
      "|   0.9|  0.04498548696842858|                       -1|                         132|          40|  3.1085487925698936|   -0.7557277006560229|         870| 4048.534263154862|   2893.6214979593|3159.5906788489287|                   1|                              14|              177|            1|               0|                 1|               -1|              0|                200.0|              0|        4.728704865428253|                 0|                        1|                 0|    7|  1.0|               1.0|                    1.0|                 0.0|         0.0|            1.0|[0.9,0.0449854869...|\n",
      "|   0.9|   0.1595111751427926|                       -1|                          22|          50| 0.01907943482742061|   -1.2051241582867218|         810| 3457.064063279491| 4054.908411692511| 3022.261811936421|                1921|                               6|              110|            1|               0|                 1|               31|              1|                200.0|              0|        2.047904421972764|                 0|                        1|                 0|    7|  1.0|               0.0|                    0.0|                 0.0|         0.0|            2.0|[0.9,0.1595111751...|\n",
      "|   0.9|   0.5964137247529342|                       -1|                         218|          50|0.004440521642123831|   -0.7732757002884915|         890| 5020.341679022825|2728.2371590193657|3087.6709516945257|                1990|                               2|              295|            1|               1|                 0|               31|              0|               1500.0|              0|        3.775224949895108|                 1|                        1|                 0|    7|  1.0|               0.0|                    0.0|                 0.0|         0.0|            3.0|[0.9,0.5964137247...|\n",
      "+------+---------------------+-------------------------+----------------------------+------------+--------------------+----------------------+------------+------------------+------------------+------------------+--------------------+--------------------------------+-----------------+-------------+----------------+------------------+-----------------+---------------+---------------------+---------------+-------------------------+------------------+-------------------------+------------------+-----+-----+------------------+-----------------------+--------------------+------------+---------------+--------------------+\n",
      "only showing top 5 rows\n",
      "\n"
     ]
    }
   ],
   "source": [
    "assembler = VectorAssembler(inputCols=['income', 'name_email_similarity', 'prev_address_months_count', 'current_address_months_count', \n",
    "                                       'customer_age', 'days_since_request', 'intended_balcon_amount', 'zip_count_4w', 'velocity_6h',\n",
    "                                       'velocity_24h', 'velocity_4w', 'bank_branch_count_8w', 'date_of_birth_distinct_emails_4w', \n",
    "                                       'credit_risk_score', 'email_is_free', 'phone_home_valid', 'phone_mobile_valid', 'bank_months_count', \n",
    "                                       'has_other_cards', 'proposed_credit_limit', 'foreign_request', 'session_length_in_minutes', \n",
    "                                       'keep_alive_session', 'device_distinct_emails_8w', 'device_fraud_count', 'month', 'payment_type_index',\n",
    "                                       'employment_status_index', 'housing_status_index', 'source_index', 'device_os_index'], outputCol='features')\n",
    "bank_data_indexed = assembler.transform(bank_data_indexed)\n",
    "bank_data_indexed.show(5)"
   ]
  },
  {
   "cell_type": "code",
   "execution_count": 9,
   "metadata": {},
   "outputs": [],
   "source": [
    "bank_data_train, bank_data_test = bank_data_indexed.randomSplit([0.8, 0.2], seed=42)\n",
    "#bank_data_train.count(), bank_data_test.count()"
   ]
  },
  {
   "cell_type": "code",
   "execution_count": 10,
   "metadata": {},
   "outputs": [
    {
     "name": "stdout",
     "output_type": "stream",
     "text": [
      "+------+---------------------+-------------------------+----------------------------+------------+--------------------+----------------------+------------+------------------+------------------+-----------------+--------------------+--------------------------------+-----------------+-------------+----------------+------------------+-----------------+---------------+---------------------+---------------+-------------------------+------------------+-------------------------+------------------+-----+-----+------------------+-----------------------+--------------------+------------+---------------+--------------------+\n",
      "|income|name_email_similarity|prev_address_months_count|current_address_months_count|customer_age|  days_since_request|intended_balcon_amount|zip_count_4w|       velocity_6h|      velocity_24h|      velocity_4w|bank_branch_count_8w|date_of_birth_distinct_emails_4w|credit_risk_score|email_is_free|phone_home_valid|phone_mobile_valid|bank_months_count|has_other_cards|proposed_credit_limit|foreign_request|session_length_in_minutes|keep_alive_session|device_distinct_emails_8w|device_fraud_count|month|label|payment_type_index|employment_status_index|housing_status_index|source_index|device_os_index|            features|\n",
      "+------+---------------------+-------------------------+----------------------------+------------+--------------------+----------------------+------------+------------------+------------------+-----------------+--------------------+--------------------------------+-----------------+-------------+----------------+------------------+-----------------+---------------+---------------------+---------------+-------------------------+------------------+-------------------------+------------------+-----+-----+------------------+-----------------------+--------------------+------------+---------------+--------------------+\n",
      "|   0.1| 0.007245263616205601|                       49|                           8|          40| 0.01286706939260323|   -1.2400628226208583|         301|3841.5892105912817| 4282.294915946146|5164.523126053788|                   8|                              11|              223|            1|               1|                 0|               -1|              1|               1500.0|              0|        2.153243238881992|                 0|                        1|                 0|    7|  0.0|               1.0|                    1.0|                 0.0|         0.0|            3.0|[0.1,0.0072452636...|\n",
      "|   0.1| 0.016325859742709226|                       -1|                          63|          40|0.003836077275397478|    -1.507702046023196|         752|2630.4703093909616| 2865.183349517593|3100.899084545404|                  17|                               4|              275|            1|               0|                 1|                1|              0|               1500.0|              0|       3.0767741924987457|                 0|                        1|                 0|    7|  1.0|               0.0|                    0.0|                 0.0|         0.0|            0.0|[0.1,0.0163258597...|\n",
      "|   0.1|  0.03335923150124243|                       -1|                          50|          30| 0.02409193717267451|   -0.8995643253639037|        1176|2404.2369591077977|2045.5989834651755|3056.488556951247|                   0|                               8|              103|            0|               0|                 1|               -1|              0|                200.0|              0|       4.1269060141698315|                 1|                        1|                 0|    7|  0.0|               1.0|                    0.0|                 3.0|         0.0|            1.0|[0.1,0.0333592315...|\n",
      "|   0.1|  0.03658302308559547|                       -1|                          86|          20|0.007692329532742764|   -1.3520734596127657|        1011|1892.1336569057073|3994.9766944909447|6726.724535183657|                 175|                              21|               69|            1|               0|                 1|               26|              0|                200.0|              0|        19.83724476166471|                 0|                        1|                 0|    7|  1.0|               0.0|                    0.0|                 2.0|         0.0|            1.0|[0.1,0.0365830230...|\n",
      "|   0.1|  0.04181127244665942|                       27|                           7|          30|0.003648967771400...|   -0.8559649221925649|        1964|3491.9464856709965| 2786.958128228961|3077.805381828929|                  40|                               5|              223|            1|               1|                 1|                1|              0|               1500.0|              0|       14.015432461103766|                 1|                        1|                 0|    7|  0.0|               0.0|                    4.0|                 2.0|         0.0|            0.0|[0.1,0.0418112724...|\n",
      "+------+---------------------+-------------------------+----------------------------+------------+--------------------+----------------------+------------+------------------+------------------+-----------------+--------------------+--------------------------------+-----------------+-------------+----------------+------------------+-----------------+---------------+---------------------+---------------+-------------------------+------------------+-------------------------+------------------+-----+-----+------------------+-----------------------+--------------------+------------+---------------+--------------------+\n",
      "only showing top 5 rows\n",
      "\n"
     ]
    }
   ],
   "source": [
    "bank_data_train.show(5)"
   ]
  },
  {
   "cell_type": "code",
   "execution_count": 11,
   "metadata": {},
   "outputs": [
    {
     "name": "stderr",
     "output_type": "stream",
     "text": [
      "2023-10-23 20:21:23,475 INFO XGBoost-PySpark: _fit Running xgboost-2.0.0 on 1 workers with\n",
      "\tbooster params: {'objective': 'binary:logistic', 'device': 'cpu', 'nthread': 1}\n",
      "\ttrain_call_kwargs_params: {'verbose_eval': True, 'num_boost_round': 100}\n",
      "\tdmatrix_kwargs: {'nthread': 1, 'missing': nan}\n",
      "2023-10-23 20:21:30,820 INFO XGBoost-PySpark: _fit Finished xgboost training!\n"
     ]
    }
   ],
   "source": [
    "#model = DecisionTreeClassifier().fit(bank_data_train)\n",
    "model = SparkXGBClassifier(\n",
    "  features_col=\"features\",\n",
    "  label_col=\"label\",\n",
    "  #num_workers=2,\n",
    "  device='cpu',\n",
    ").fit(bank_data_train)"
   ]
  },
  {
   "cell_type": "code",
   "execution_count": 12,
   "metadata": {},
   "outputs": [],
   "source": [
    "prediction = model.transform(bank_data_test)"
   ]
  },
  {
   "cell_type": "code",
   "execution_count": 15,
   "metadata": {},
   "outputs": [
    {
     "data": {
      "text/plain": [
       "0.859205083956501"
      ]
     },
     "execution_count": 15,
     "metadata": {},
     "output_type": "execute_result"
    }
   ],
   "source": [
    "evaluator = BinaryClassificationEvaluator()\n",
    "evaluator.evaluate(prediction, {evaluator.metricName: \"areaUnderROC\"})"
   ]
  },
  {
   "cell_type": "code",
   "execution_count": null,
   "metadata": {},
   "outputs": [],
   "source": [
    "spark.stop()"
   ]
  }
 ],
 "metadata": {
  "kernelspec": {
   "display_name": "spark_env",
   "language": "python",
   "name": "python3"
  },
  "language_info": {
   "codemirror_mode": {
    "name": "ipython",
    "version": 3
   },
   "file_extension": ".py",
   "mimetype": "text/x-python",
   "name": "python",
   "nbconvert_exporter": "python",
   "pygments_lexer": "ipython3",
   "version": "3.10.13"
  }
 },
 "nbformat": 4,
 "nbformat_minor": 2
}
