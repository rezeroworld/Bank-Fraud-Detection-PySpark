{
 "cells": [
  {
   "cell_type": "markdown",
   "metadata": {},
   "source": [
    "# Importing libraries"
   ]
  },
  {
   "cell_type": "code",
   "execution_count": 1,
   "metadata": {},
   "outputs": [],
   "source": [
    "from pyspark.sql import SparkSession\n",
    "from pyspark.ml.feature import StringIndexer\n",
    "from pyspark.sql.functions import col,isnan, when, count\n",
    "from pyspark.ml.classification import DecisionTreeClassifier\n",
    "from pyspark.ml.feature import VectorAssembler\n",
    "from pyspark.ml.evaluation import BinaryClassificationEvaluator, MulticlassClassificationEvaluator\n",
    "from pyspark.ml import Pipeline"
   ]
  },
  {
   "cell_type": "markdown",
   "metadata": {},
   "source": [
    "# Exploring the dataset"
   ]
  },
  {
   "cell_type": "code",
   "execution_count": 2,
   "metadata": {},
   "outputs": [],
   "source": [
    "spark = SparkSession.builder\\\n",
    "                    .master('local[*]')\\\n",
    "                    .appName('bank_fraud_detection')\\\n",
    "                    .getOrCreate()"
   ]
  },
  {
   "cell_type": "code",
   "execution_count": 3,
   "metadata": {},
   "outputs": [
    {
     "name": "stdout",
     "output_type": "stream",
     "text": [
      "root\n",
      " |-- fraud_bool: integer (nullable = true)\n",
      " |-- income: double (nullable = true)\n",
      " |-- name_email_similarity: double (nullable = true)\n",
      " |-- prev_address_months_count: integer (nullable = true)\n",
      " |-- current_address_months_count: integer (nullable = true)\n",
      " |-- customer_age: integer (nullable = true)\n",
      " |-- days_since_request: double (nullable = true)\n",
      " |-- intended_balcon_amount: double (nullable = true)\n",
      " |-- payment_type: string (nullable = true)\n",
      " |-- zip_count_4w: integer (nullable = true)\n",
      " |-- velocity_6h: double (nullable = true)\n",
      " |-- velocity_24h: double (nullable = true)\n",
      " |-- velocity_4w: double (nullable = true)\n",
      " |-- bank_branch_count_8w: integer (nullable = true)\n",
      " |-- date_of_birth_distinct_emails_4w: integer (nullable = true)\n",
      " |-- employment_status: string (nullable = true)\n",
      " |-- credit_risk_score: integer (nullable = true)\n",
      " |-- email_is_free: integer (nullable = true)\n",
      " |-- housing_status: string (nullable = true)\n",
      " |-- phone_home_valid: integer (nullable = true)\n",
      " |-- phone_mobile_valid: integer (nullable = true)\n",
      " |-- bank_months_count: integer (nullable = true)\n",
      " |-- has_other_cards: integer (nullable = true)\n",
      " |-- proposed_credit_limit: double (nullable = true)\n",
      " |-- foreign_request: integer (nullable = true)\n",
      " |-- source: string (nullable = true)\n",
      " |-- session_length_in_minutes: double (nullable = true)\n",
      " |-- device_os: string (nullable = true)\n",
      " |-- keep_alive_session: integer (nullable = true)\n",
      " |-- device_distinct_emails_8w: integer (nullable = true)\n",
      " |-- device_fraud_count: integer (nullable = true)\n",
      " |-- month: integer (nullable = true)\n",
      "\n"
     ]
    }
   ],
   "source": [
    "bank_data = spark.read.csv('data/Base.csv', header=True, inferSchema=True, nullValue='NA')\n",
    "bank_data.printSchema()"
   ]
  },
  {
   "cell_type": "code",
   "execution_count": 4,
   "metadata": {},
   "outputs": [
    {
     "name": "stdout",
     "output_type": "stream",
     "text": [
      "+----------+------+---------------------+-------------------------+----------------------------+------------+--------------------+----------------------+------------+------------+------------------+------------------+------------------+--------------------+--------------------------------+-----------------+-----------------+-------------+--------------+----------------+------------------+-----------------+---------------+---------------------+---------------+--------+-------------------------+---------+------------------+-------------------------+------------------+-----+\n",
      "|fraud_bool|income|name_email_similarity|prev_address_months_count|current_address_months_count|customer_age|  days_since_request|intended_balcon_amount|payment_type|zip_count_4w|       velocity_6h|      velocity_24h|       velocity_4w|bank_branch_count_8w|date_of_birth_distinct_emails_4w|employment_status|credit_risk_score|email_is_free|housing_status|phone_home_valid|phone_mobile_valid|bank_months_count|has_other_cards|proposed_credit_limit|foreign_request|  source|session_length_in_minutes|device_os|keep_alive_session|device_distinct_emails_8w|device_fraud_count|month|\n",
      "+----------+------+---------------------+-------------------------+----------------------------+------------+--------------------+----------------------+------------+------------+------------------+------------------+------------------+--------------------+--------------------------------+-----------------+-----------------+-------------+--------------+----------------+------------------+-----------------+---------------+---------------------+---------------+--------+-------------------------+---------+------------------+-------------------------+------------------+-----+\n",
      "|         1|   0.9|  0.16682773442433269|                       -1|                          88|          50| 0.02092517283659475|   -1.3313449634902534|          AA|         769|10650.765522770173| 3134.319630490106| 3863.647739528353|                   1|                               6|               CA|              185|            0|            BA|               1|                 0|               24|              0|                500.0|              0|INTERNET|       3.8881146047890933|  windows|                 0|                        1|                 0|    7|\n",
      "|         1|   0.9|   0.2962860052333516|                       -1|                         144|          50|0.005417538325535515|   -0.8162237547762208|          AB|         366| 534.0473189424272| 2670.918291734359| 3124.298165591961|                 718|                               3|               CA|              259|            1|            BA|               0|                 0|               15|              0|               1500.0|              0|INTERNET|       31.798819363624553|  windows|                 0|                        1|                 0|    7|\n",
      "|         1|   0.9|  0.04498548696842858|                       -1|                         132|          40|  3.1085487925698936|   -0.7557277006560229|          AC|         870| 4048.534263154862|   2893.6214979593|3159.5906788489287|                   1|                              14|               CB|              177|            1|            BA|               0|                 1|               -1|              0|                200.0|              0|INTERNET|        4.728704865428253|    other|                 0|                        1|                 0|    7|\n",
      "|         1|   0.9|   0.1595111751427926|                       -1|                          22|          50| 0.01907943482742061|   -1.2051241582867218|          AB|         810| 3457.064063279491| 4054.908411692511| 3022.261811936421|                1921|                               6|               CA|              110|            1|            BA|               0|                 1|               31|              1|                200.0|              0|INTERNET|        2.047904421972764|    linux|                 0|                        1|                 0|    7|\n",
      "|         1|   0.9|   0.5964137247529342|                       -1|                         218|          50|0.004440521642123831|   -0.7732757002884915|          AB|         890| 5020.341679022825|2728.2371590193657|3087.6709516945257|                1990|                               2|               CA|              295|            1|            BA|               1|                 0|               31|              0|               1500.0|              0|INTERNET|        3.775224949895108|macintosh|                 1|                        1|                 0|    7|\n",
      "+----------+------+---------------------+-------------------------+----------------------------+------------+--------------------+----------------------+------------+------------+------------------+------------------+------------------+--------------------+--------------------------------+-----------------+-----------------+-------------+--------------+----------------+------------------+-----------------+---------------+---------------------+---------------+--------+-------------------------+---------+------------------+-------------------------+------------------+-----+\n",
      "only showing top 5 rows\n",
      "\n"
     ]
    }
   ],
   "source": [
    "bank_data.show(5)"
   ]
  },
  {
   "cell_type": "code",
   "execution_count": 5,
   "metadata": {},
   "outputs": [],
   "source": [
    "bank_data = bank_data.withColumn(\"label\", bank_data.fraud_bool.cast('float')).drop('fraud_bool')"
   ]
  },
  {
   "cell_type": "code",
   "execution_count": 6,
   "metadata": {},
   "outputs": [],
   "source": [
    "bank_data = bank_data.dropna()"
   ]
  },
  {
   "cell_type": "code",
   "execution_count": 55,
   "metadata": {},
   "outputs": [
    {
     "name": "stdout",
     "output_type": "stream",
     "text": [
      "+------+---------------------+-------------------------+----------------------------+------------+--------------------+----------------------+------------+------------------+------------------+------------------+--------------------+--------------------------------+-----------------+-------------+----------------+------------------+-----------------+---------------+---------------------+---------------+-------------------------+------------------+-------------------------+------------------+-----+-----+------------------+-----------------------+--------------------+------------+---------------+\n",
      "|income|name_email_similarity|prev_address_months_count|current_address_months_count|customer_age|  days_since_request|intended_balcon_amount|zip_count_4w|       velocity_6h|      velocity_24h|       velocity_4w|bank_branch_count_8w|date_of_birth_distinct_emails_4w|credit_risk_score|email_is_free|phone_home_valid|phone_mobile_valid|bank_months_count|has_other_cards|proposed_credit_limit|foreign_request|session_length_in_minutes|keep_alive_session|device_distinct_emails_8w|device_fraud_count|month|label|payment_type_index|employment_status_index|housing_status_index|source_index|device_os_index|\n",
      "+------+---------------------+-------------------------+----------------------------+------------+--------------------+----------------------+------------+------------------+------------------+------------------+--------------------+--------------------------------+-----------------+-------------+----------------+------------------+-----------------+---------------+---------------------+---------------+-------------------------+------------------+-------------------------+------------------+-----+-----+------------------+-----------------------+--------------------+------------+---------------+\n",
      "|   0.9|  0.16682773442433269|                       -1|                          88|          50| 0.02092517283659475|   -1.3313449634902534|         769|10650.765522770173| 3134.319630490106| 3863.647739528353|                   1|                               6|              185|            0|               1|                 0|               24|              0|                500.0|              0|       3.8881146047890933|                 0|                        1|                 0|    7|  1.0|               1.0|                    0.0|                 2.0|         0.0|            2.0|\n",
      "|   0.9|   0.2962860052333516|                       -1|                         144|          50|0.005417538325535515|   -0.8162237547762208|         366| 534.0473189424272| 2670.918291734359| 3124.298165591961|                 718|                               3|              259|            1|               0|                 0|               15|              0|               1500.0|              0|       31.798819363624553|                 0|                        1|                 0|    7|  1.0|               0.0|                    0.0|                 2.0|         0.0|            2.0|\n",
      "|   0.9|  0.04498548696842858|                       -1|                         132|          40|  3.1085487925698936|   -0.7557277006560229|         870| 4048.534263154862|   2893.6214979593|3159.5906788489287|                   1|                              14|              177|            1|               0|                 1|               -1|              0|                200.0|              0|        4.728704865428253|                 0|                        1|                 0|    7|  1.0|               2.0|                    1.0|                 2.0|         0.0|            0.0|\n",
      "|   0.9|   0.1595111751427926|                       -1|                          22|          50| 0.01907943482742061|   -1.2051241582867218|         810| 3457.064063279491| 4054.908411692511| 3022.261811936421|                1921|                               6|              110|            1|               0|                 1|               31|              1|                200.0|              0|        2.047904421972764|                 0|                        1|                 0|    7|  1.0|               0.0|                    0.0|                 2.0|         0.0|            1.0|\n",
      "|   0.9|   0.5964137247529342|                       -1|                         218|          50|0.004440521642123831|   -0.7732757002884915|         890| 5020.341679022825|2728.2371590193657|3087.6709516945257|                1990|                               2|              295|            1|               1|                 0|               31|              0|               1500.0|              0|        3.775224949895108|                 1|                        1|                 0|    7|  1.0|               0.0|                    0.0|                 2.0|         0.0|            3.0|\n",
      "+------+---------------------+-------------------------+----------------------------+------------+--------------------+----------------------+------------+------------------+------------------+------------------+--------------------+--------------------------------+-----------------+-------------+----------------+------------------+-----------------+---------------+---------------------+---------------+-------------------------+------------------+-------------------------+------------------+-----+-----+------------------+-----------------------+--------------------+------------+---------------+\n",
      "only showing top 5 rows\n",
      "\n"
     ]
    }
   ],
   "source": [
    "indexers = StringIndexer(inputCols=['payment_type', 'employment_status', 'housing_status', 'source', 'device_os'], outputCols=['payment_type_index', 'employment_status_index', 'housing_status_index', 'source_index', 'device_os_index'])\n",
    "bank_data_indexed = indexers.fit(bank_data).transform(bank_data).drop(*['payment_type', 'employment_status', 'housing_status', 'source', 'device_os'])\n",
    "bank_data_indexed.show(5)"
   ]
  },
  {
   "cell_type": "code",
   "execution_count": 56,
   "metadata": {},
   "outputs": [
    {
     "name": "stdout",
     "output_type": "stream",
     "text": [
      "+------+---------------------+-------------------------+----------------------------+------------+--------------------+----------------------+------------+------------------+------------------+------------------+--------------------+--------------------------------+-----------------+-------------+----------------+------------------+-----------------+---------------+---------------------+---------------+-------------------------+------------------+-------------------------+------------------+-----+-----+------------------+-----------------------+--------------------+------------+---------------+--------------------+\n",
      "|income|name_email_similarity|prev_address_months_count|current_address_months_count|customer_age|  days_since_request|intended_balcon_amount|zip_count_4w|       velocity_6h|      velocity_24h|       velocity_4w|bank_branch_count_8w|date_of_birth_distinct_emails_4w|credit_risk_score|email_is_free|phone_home_valid|phone_mobile_valid|bank_months_count|has_other_cards|proposed_credit_limit|foreign_request|session_length_in_minutes|keep_alive_session|device_distinct_emails_8w|device_fraud_count|month|label|payment_type_index|employment_status_index|housing_status_index|source_index|device_os_index|            features|\n",
      "+------+---------------------+-------------------------+----------------------------+------------+--------------------+----------------------+------------+------------------+------------------+------------------+--------------------+--------------------------------+-----------------+-------------+----------------+------------------+-----------------+---------------+---------------------+---------------+-------------------------+------------------+-------------------------+------------------+-----+-----+------------------+-----------------------+--------------------+------------+---------------+--------------------+\n",
      "|   0.9|  0.16682773442433269|                       -1|                          88|          50| 0.02092517283659475|   -1.3313449634902534|         769|10650.765522770173| 3134.319630490106| 3863.647739528353|                   1|                               6|              185|            0|               1|                 0|               24|              0|                500.0|              0|       3.8881146047890933|                 0|                        1|                 0|    7|  1.0|               1.0|                    0.0|                 2.0|         0.0|            2.0|[0.9,0.1668277344...|\n",
      "|   0.9|   0.2962860052333516|                       -1|                         144|          50|0.005417538325535515|   -0.8162237547762208|         366| 534.0473189424272| 2670.918291734359| 3124.298165591961|                 718|                               3|              259|            1|               0|                 0|               15|              0|               1500.0|              0|       31.798819363624553|                 0|                        1|                 0|    7|  1.0|               0.0|                    0.0|                 2.0|         0.0|            2.0|[0.9,0.2962860052...|\n",
      "|   0.9|  0.04498548696842858|                       -1|                         132|          40|  3.1085487925698936|   -0.7557277006560229|         870| 4048.534263154862|   2893.6214979593|3159.5906788489287|                   1|                              14|              177|            1|               0|                 1|               -1|              0|                200.0|              0|        4.728704865428253|                 0|                        1|                 0|    7|  1.0|               2.0|                    1.0|                 2.0|         0.0|            0.0|[0.9,0.0449854869...|\n",
      "|   0.9|   0.1595111751427926|                       -1|                          22|          50| 0.01907943482742061|   -1.2051241582867218|         810| 3457.064063279491| 4054.908411692511| 3022.261811936421|                1921|                               6|              110|            1|               0|                 1|               31|              1|                200.0|              0|        2.047904421972764|                 0|                        1|                 0|    7|  1.0|               0.0|                    0.0|                 2.0|         0.0|            1.0|[0.9,0.1595111751...|\n",
      "|   0.9|   0.5964137247529342|                       -1|                         218|          50|0.004440521642123831|   -0.7732757002884915|         890| 5020.341679022825|2728.2371590193657|3087.6709516945257|                1990|                               2|              295|            1|               1|                 0|               31|              0|               1500.0|              0|        3.775224949895108|                 1|                        1|                 0|    7|  1.0|               0.0|                    0.0|                 2.0|         0.0|            3.0|[0.9,0.5964137247...|\n",
      "+------+---------------------+-------------------------+----------------------------+------------+--------------------+----------------------+------------+------------------+------------------+------------------+--------------------+--------------------------------+-----------------+-------------+----------------+------------------+-----------------+---------------+---------------------+---------------+-------------------------+------------------+-------------------------+------------------+-----+-----+------------------+-----------------------+--------------------+------------+---------------+--------------------+\n",
      "only showing top 5 rows\n",
      "\n"
     ]
    }
   ],
   "source": [
    "assembler = VectorAssembler(inputCols=['income', 'name_email_similarity', 'prev_address_months_count', 'current_address_months_count', \n",
    "                                       'customer_age', 'days_since_request', 'intended_balcon_amount', 'zip_count_4w', 'velocity_6h',\n",
    "                                       'velocity_24h', 'velocity_4w', 'bank_branch_count_8w', 'date_of_birth_distinct_emails_4w', \n",
    "                                       'credit_risk_score', 'email_is_free', 'phone_home_valid', 'phone_mobile_valid', 'bank_months_count', \n",
    "                                       'has_other_cards', 'proposed_credit_limit', 'foreign_request', 'session_length_in_minutes', \n",
    "                                       'keep_alive_session', 'device_distinct_emails_8w', 'device_fraud_count', 'month', 'payment_type_index',\n",
    "                                       'employment_status_index', 'housing_status_index', 'source_index', 'device_os_index'], outputCol='features')\n",
    "bank_data_indexed = assembler.transform(bank_data_indexed)\n",
    "bank_data_indexed.show(5)"
   ]
  },
  {
   "cell_type": "code",
   "execution_count": 7,
   "metadata": {},
   "outputs": [
    {
     "ename": "NameError",
     "evalue": "name 'bank_data_indexed' is not defined",
     "output_type": "error",
     "traceback": [
      "\u001b[1;31m---------------------------------------------------------------------------\u001b[0m",
      "\u001b[1;31mNameError\u001b[0m                                 Traceback (most recent call last)",
      "\u001b[1;32mc:\\Users\\zarou\\Documents\\GitHub_Projects\\Bank-Fraud-Detection-PySpark\\temp.ipynb Cell 9\u001b[0m line \u001b[0;36m1\n\u001b[1;32m----> <a href='vscode-notebook-cell:/c%3A/Users/zarou/Documents/GitHub_Projects/Bank-Fraud-Detection-PySpark/temp.ipynb#X10sZmlsZQ%3D%3D?line=0'>1</a>\u001b[0m bank_data_train, bank_data_test \u001b[39m=\u001b[39m bank_data_indexed\u001b[39m.\u001b[39mrandomSplit([\u001b[39m0.8\u001b[39m, \u001b[39m0.2\u001b[39m], seed\u001b[39m=\u001b[39m\u001b[39m42\u001b[39m)\n",
      "\u001b[1;31mNameError\u001b[0m: name 'bank_data_indexed' is not defined"
     ]
    }
   ],
   "source": [
    "bank_data_train, bank_data_test = bank_data_indexed.randomSplit([0.8, 0.2], seed=42)\n",
    "#bank_data_train.count(), bank_data_test.count()"
   ]
  },
  {
   "cell_type": "code",
   "execution_count": 58,
   "metadata": {},
   "outputs": [
    {
     "name": "stdout",
     "output_type": "stream",
     "text": [
      "+------+---------------------+-------------------------+----------------------------+------------+--------------------+----------------------+------------+------------------+------------------+------------------+--------------------+--------------------------------+-----------------+-------------+----------------+------------------+-----------------+---------------+---------------------+---------------+-------------------------+------------------+-------------------------+------------------+-----+-----+------------------+-----------------------+--------------------+------------+---------------+--------------------+\n",
      "|income|name_email_similarity|prev_address_months_count|current_address_months_count|customer_age|  days_since_request|intended_balcon_amount|zip_count_4w|       velocity_6h|      velocity_24h|       velocity_4w|bank_branch_count_8w|date_of_birth_distinct_emails_4w|credit_risk_score|email_is_free|phone_home_valid|phone_mobile_valid|bank_months_count|has_other_cards|proposed_credit_limit|foreign_request|session_length_in_minutes|keep_alive_session|device_distinct_emails_8w|device_fraud_count|month|label|payment_type_index|employment_status_index|housing_status_index|source_index|device_os_index|            features|\n",
      "+------+---------------------+-------------------------+----------------------------+------------+--------------------+----------------------+------------+------------------+------------------+------------------+--------------------+--------------------------------+-----------------+-------------+----------------+------------------+-----------------+---------------+---------------------+---------------+-------------------------+------------------+-------------------------+------------------+-----+-----+------------------+-----------------------+--------------------+------------+---------------+--------------------+\n",
      "|   0.1| 2.089375612636529...|                       -1|                         137|          10|0.001043584037650...|   -1.0824497149214003|        1382|3169.3759442714336|3027.6229157527405|   3140.1918189662|                   0|                               9|              104|            1|               0|                 1|               -1|              0|                200.0|              0|       3.8655415754581495|                 1|                        1|                 0|    7|  0.0|               2.0|                    0.0|                 3.0|         0.0|            0.0|[0.1,2.0893756126...|\n",
      "|   0.1| 4.182048803197669E-4|                       -1|                          53|          40|0.008113197039915648|     103.6270028297662|        1496|3101.9516155742176| 4447.044215920818|4802.8624951824795|                   2|                              12|              205|            1|               0|                 1|                5|              0|               1500.0|              0|        5.611553143252295|                 0|                        1|                 0|    3|  0.0|               2.0|                    0.0|                 0.0|         0.0|            1.0|[0.1,4.1820488031...|\n",
      "|   0.1| 8.905441350796349E-4|                       -1|                         161|          50|2.647639710352410...|     38.16638694233856|        1433| 4944.216849518852|2602.5181011322557|3183.9127100123133|                   7|                               5|              285|            0|               0|                 1|               28|              1|               1500.0|              0|        4.496153840213513|                 0|                        1|                 0|    7|  0.0|               1.0|                    0.0|                 1.0|         0.0|            2.0|[0.1,8.9054413507...|\n",
      "|   0.1| 9.065043391854738E-4|                       37|                          10|          20|0.030262685095200838|     26.21999339143665|         229| 4943.078580391112| 3138.505636063441| 3116.635807127589|                  11|                               7|              111|            1|               1|                 1|                7|              0|                200.0|              0|       1.8644325533488928|                 0|                        1|                 0|    7|  0.0|               1.0|                    1.0|                 0.0|         0.0|            1.0|[0.1,9.0650433918...|\n",
      "|   0.1| 0.001151105324389...|                       -1|                           5|          50|0.022692908116322484|     8.912935600943051|        1110|3422.8987065780548| 3789.682242044613| 3079.432381446061|                   2|                              11|               49|            1|               1|                 1|                5|              0|                200.0|              0|         8.72259415828104|                 1|                        1|                 0|    7|  0.0|               1.0|                    1.0|                 3.0|         0.0|            1.0|[0.1,0.0011511053...|\n",
      "+------+---------------------+-------------------------+----------------------------+------------+--------------------+----------------------+------------+------------------+------------------+------------------+--------------------+--------------------------------+-----------------+-------------+----------------+------------------+-----------------+---------------+---------------------+---------------+-------------------------+------------------+-------------------------+------------------+-----+-----+------------------+-----------------------+--------------------+------------+---------------+--------------------+\n",
      "only showing top 5 rows\n",
      "\n"
     ]
    }
   ],
   "source": [
    "bank_data_train.show(5)"
   ]
  },
  {
   "cell_type": "code",
   "execution_count": 59,
   "metadata": {},
   "outputs": [],
   "source": [
    "model = DecisionTreeClassifier().fit(bank_data_train)"
   ]
  },
  {
   "cell_type": "code",
   "execution_count": 60,
   "metadata": {},
   "outputs": [
    {
     "name": "stdout",
     "output_type": "stream",
     "text": [
      "+-----+----------+------+\n",
      "|label|prediction| count|\n",
      "+-----+----------+------+\n",
      "|  1.0|       0.0|  2241|\n",
      "|  0.0|       0.0|197474|\n",
      "|  1.0|       1.0|     2|\n",
      "|  0.0|       1.0|    12|\n",
      "+-----+----------+------+\n",
      "\n"
     ]
    }
   ],
   "source": [
    "predictions = model.transform(bank_data_test)"
   ]
  },
  {
   "cell_type": "code",
   "execution_count": 68,
   "metadata": {},
   "outputs": [
    {
     "data": {
      "text/plain": [
       "0.9831811947456215"
      ]
     },
     "execution_count": 68,
     "metadata": {},
     "output_type": "execute_result"
    }
   ],
   "source": [
    "evaluator = MulticlassClassificationEvaluator()\n",
    "evaluator.evaluate(predictions, {evaluator.metricName: \"f1\"})"
   ]
  },
  {
   "cell_type": "markdown",
   "metadata": {},
   "source": [
    "# Creating a pipeline"
   ]
  },
  {
   "cell_type": "code",
   "execution_count": 8,
   "metadata": {},
   "outputs": [],
   "source": [
    "spark = SparkSession.builder\\\n",
    "                    .master('local[*]')\\\n",
    "                    .appName('bank_fraud_detection')\\\n",
    "                    .getOrCreate()\n",
    "\n",
    "bank_data = spark.read.csv('data/Base.csv', header=True, inferSchema=True, nullValue='NA')\n",
    "\n",
    "bank_data = bank_data.withColumn(\"label\", bank_data.fraud_bool.cast('float')).drop('fraud_bool')\n",
    "\n",
    "bank_data = bank_data.dropna()\n",
    "\n",
    "bank_data_train, bank_data_test = bank_data.randomSplit([0.8, 0.2], seed=42)"
   ]
  },
  {
   "cell_type": "code",
   "execution_count": 9,
   "metadata": {},
   "outputs": [],
   "source": [
    "indexers = StringIndexer(inputCols=['payment_type', 'employment_status', 'housing_status', 'source', 'device_os'], outputCols=['payment_type_index', 'employment_status_index', 'housing_status_index', 'source_index', 'device_os_index'])\n",
    "assembler = VectorAssembler(inputCols=['income', 'name_email_similarity', 'prev_address_months_count', 'current_address_months_count', \n",
    "                                       'customer_age', 'days_since_request', 'intended_balcon_amount', 'zip_count_4w', 'velocity_6h',\n",
    "                                       'velocity_24h', 'velocity_4w', 'bank_branch_count_8w', 'date_of_birth_distinct_emails_4w', \n",
    "                                       'credit_risk_score', 'email_is_free', 'phone_home_valid', 'phone_mobile_valid', 'bank_months_count', \n",
    "                                       'has_other_cards', 'proposed_credit_limit', 'foreign_request', 'session_length_in_minutes', \n",
    "                                       'keep_alive_session', 'device_distinct_emails_8w', 'device_fraud_count', 'month', 'payment_type_index',\n",
    "                                       'employment_status_index', 'housing_status_index', 'source_index', 'device_os_index'], outputCol='features')\n",
    "model = DecisionTreeClassifier()\n",
    "\n",
    "pipeline = Pipeline(stages=[indexers, assembler, model])\n",
    "\n",
    "pipeline = pipeline.fit(bank_data_train)"
   ]
  },
  {
   "cell_type": "code",
   "execution_count": 11,
   "metadata": {},
   "outputs": [
    {
     "data": {
      "text/plain": [
       "0.9831613483152265"
      ]
     },
     "execution_count": 11,
     "metadata": {},
     "output_type": "execute_result"
    }
   ],
   "source": [
    "prediction = pipeline.transform(bank_data_test)\n",
    "evaluator = MulticlassClassificationEvaluator()\n",
    "evaluator.evaluate(prediction, {evaluator.metricName: \"f1\"})"
   ]
  }
 ],
 "metadata": {
  "kernelspec": {
   "display_name": "spark_env",
   "language": "python",
   "name": "python3"
  },
  "language_info": {
   "codemirror_mode": {
    "name": "ipython",
    "version": 3
   },
   "file_extension": ".py",
   "mimetype": "text/x-python",
   "name": "python",
   "nbconvert_exporter": "python",
   "pygments_lexer": "ipython3",
   "version": "3.10.13"
  }
 },
 "nbformat": 4,
 "nbformat_minor": 2
}
